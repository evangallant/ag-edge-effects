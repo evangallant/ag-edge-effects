{
 "cells": [
  {
   "cell_type": "markdown",
   "id": "7ef1761d",
   "metadata": {},
   "source": [
    "***Runs on data used in training***"
   ]
  },
  {
   "cell_type": "code",
   "execution_count": 1,
   "id": "76c3a586",
   "metadata": {},
   "outputs": [],
   "source": [
    "%load_ext autoreload\n",
    "%autoreload 2\n",
    "\n",
    "import sys\n",
    "import os\n",
    "import geemap\n",
    "import ee\n",
    "sys.path.append(os.path.abspath('..'))\n",
    "from src.visualization.visualization import visualize_tif"
   ]
  },
  {
   "cell_type": "markdown",
   "id": "36676d94",
   "metadata": {},
   "source": [
    "### **In-Sample Runs**"
   ]
  },
  {
   "cell_type": "code",
   "execution_count": null,
   "id": "c7eefa7e",
   "metadata": {},
   "outputs": [],
   "source": [
    "roi = 'leadville'\n",
    "Map = visualize_tif(roi, tif_layers=True, usfs=True)\n",
    "Map"
   ]
  },
  {
   "cell_type": "code",
   "execution_count": null,
   "id": "50aaa7a4",
   "metadata": {},
   "outputs": [],
   "source": [
    "roi = 'hunter-fryingpan'\n",
    "Map = visualize_tif(roi, tif_layers=True, usfs=True)\n",
    "Map"
   ]
  },
  {
   "cell_type": "code",
   "execution_count": null,
   "id": "3a52d76f",
   "metadata": {},
   "outputs": [],
   "source": [
    "roi = 'creede'\n",
    "Map = visualize_tif(roi, tif_layers=True, usfs=True)\n",
    "Map"
   ]
  },
  {
   "cell_type": "code",
   "execution_count": null,
   "id": "eea5c5ea",
   "metadata": {},
   "outputs": [],
   "source": [
    "roi = 'stratton'\n",
    "Map = visualize_tif(roi, tif_layers=True, usfs=True)\n",
    "Map"
   ]
  },
  {
   "cell_type": "markdown",
   "id": "85e488f8",
   "metadata": {},
   "source": [
    "### **Out of Sample Runs w/ USFS Data**"
   ]
  },
  {
   "cell_type": "code",
   "execution_count": null,
   "id": "0c630dfc",
   "metadata": {},
   "outputs": [],
   "source": [
    "roi = 'ea_co'\n",
    "Map = visualize_tif(roi, tif_layers=True, usfs=True)\n",
    "Map"
   ]
  },
  {
   "cell_type": "code",
   "execution_count": null,
   "id": "a3153c34",
   "metadata": {},
   "outputs": [],
   "source": [
    "roi = 'boise'\n",
    "Map = visualize_tif(roi, tif_layers=True, usfs=True)\n",
    "Map"
   ]
  },
  {
   "cell_type": "code",
   "execution_count": null,
   "id": "933952de",
   "metadata": {},
   "outputs": [],
   "source": [
    "roi = 'snowmass'\n",
    "Map = visualize_tif(roi, tif_layers=True, usfs=True)\n",
    "Map"
   ]
  },
  {
   "cell_type": "code",
   "execution_count": null,
   "id": "d871c5e7",
   "metadata": {},
   "outputs": [],
   "source": [
    "roi = 'mt_yale'\n",
    "Map = visualize_tif(roi, tif_layers=True, usfs=True)\n",
    "Map"
   ]
  },
  {
   "cell_type": "code",
   "execution_count": null,
   "id": "4e51df82",
   "metadata": {},
   "outputs": [
    {
     "data": {
      "text/html": [
       "\n",
       "            <style>\n",
       "                .geemap-dark {\n",
       "                    --jp-widgets-color: white;\n",
       "                    --jp-widgets-label-color: white;\n",
       "                    --jp-ui-font-color1: white;\n",
       "                    --jp-layout-color2: #454545;\n",
       "                    background-color: #383838;\n",
       "                }\n",
       "\n",
       "                .geemap-dark .jupyter-button {\n",
       "                    --jp-layout-color3: #383838;\n",
       "                }\n",
       "\n",
       "                .geemap-colab {\n",
       "                    background-color: var(--colab-primary-surface-color, white);\n",
       "                }\n",
       "\n",
       "                .geemap-colab .jupyter-button {\n",
       "                    --jp-layout-color3: var(--colab-primary-surface-color, white);\n",
       "                }\n",
       "            </style>\n",
       "            "
      ],
      "text/plain": [
       "<IPython.core.display.HTML object>"
      ]
     },
     "metadata": {},
     "output_type": "display_data"
    },
    {
     "name": "stdout",
     "output_type": "stream",
     "text": [
      "Retrieving pixel blocks from s2 tif of size 1950 x 1504, with a total of 2932800 pixels\n",
      "Processing 599th row / 1950\n",
      "Processing 799th row / 1950\n",
      "Processing 999th row / 1950\n",
      "Processing 1199th row / 1950\n",
      "Processing 1399th row / 1950\n",
      "Retrieving USFS land use classes\n",
      "Block size: 80×80\n",
      "Feature map after pooling: 128 × 10 × 10\n",
      "Flattened features: 12800\n",
      "Initializing output tif files\n",
      "Number of blocks to predict: 634200\n"
     ]
    },
    {
     "data": {
      "application/vnd.jupyter.widget-view+json": {
       "model_id": "eda7e10c51d44cde8a2f402d25fbbf8b",
       "version_major": 2,
       "version_minor": 0
      },
      "text/plain": [
       "Processing pixel blocks:   0%|          | 0/634200 [00:00<?, ?block/s]"
      ]
     },
     "metadata": {},
     "output_type": "display_data"
    },
    {
     "name": "stdout",
     "output_type": "stream",
     "text": [
      "(62, 2)% of pixels predicted incorrectly.\n",
      "Writing to .tif files\n",
      "Output tifs created and saved to memory, creating GeeMap visualization\n"
     ]
    },
    {
     "data": {
      "application/vnd.jupyter.widget-view+json": {
       "model_id": "ee7c92fd4c3d4b87bf89dbb47fd715f0",
       "version_major": 2,
       "version_minor": 0
      },
      "text/plain": [
       "Map(center=[-107.911, 38.476], controls=(WidgetControl(options=['position', 'transparent_bg'], widget=SearchDa…"
      ]
     },
     "metadata": {},
     "output_type": "display_data"
    },
    {
     "name": "stderr",
     "output_type": "stream",
     "text": [
      "Exception possibly due to cache backend.\n",
      "Traceback (most recent call last):\n",
      "  File \"c:\\Users\\galla\\anaconda3\\envs\\edge-effects\\lib\\site-packages\\flask_caching\\__init__.py\", line 435, in decorated_function\n",
      "    self.cache.set(\n",
      "  File \"c:\\Users\\galla\\anaconda3\\envs\\edge-effects\\lib\\site-packages\\cachelib\\simple.py\", line 75, in set\n",
      "    self._prune()\n",
      "  File \"c:\\Users\\galla\\anaconda3\\envs\\edge-effects\\lib\\site-packages\\cachelib\\simple.py\", line 52, in _prune\n",
      "    self._remove_expired(now)\n",
      "  File \"c:\\Users\\galla\\anaconda3\\envs\\edge-effects\\lib\\site-packages\\cachelib\\simple.py\", line 36, in _remove_expired\n",
      "    toremove = [k for k, (expires, _) in self._cache.items() if expires < now]\n",
      "  File \"c:\\Users\\galla\\anaconda3\\envs\\edge-effects\\lib\\site-packages\\cachelib\\simple.py\", line 36, in <listcomp>\n",
      "    toremove = [k for k, (expires, _) in self._cache.items() if expires < now]\n",
      "RuntimeError: dictionary keys changed during iteration\n",
      "Exception possibly due to cache backend.\n",
      "Traceback (most recent call last):\n",
      "  File \"c:\\Users\\galla\\anaconda3\\envs\\edge-effects\\lib\\site-packages\\flask_caching\\__init__.py\", line 435, in decorated_function\n",
      "    self.cache.set(\n",
      "  File \"c:\\Users\\galla\\anaconda3\\envs\\edge-effects\\lib\\site-packages\\cachelib\\simple.py\", line 75, in set\n",
      "    self._prune()\n",
      "  File \"c:\\Users\\galla\\anaconda3\\envs\\edge-effects\\lib\\site-packages\\cachelib\\simple.py\", line 52, in _prune\n",
      "    self._remove_expired(now)\n",
      "  File \"c:\\Users\\galla\\anaconda3\\envs\\edge-effects\\lib\\site-packages\\cachelib\\simple.py\", line 36, in _remove_expired\n",
      "    toremove = [k for k, (expires, _) in self._cache.items() if expires < now]\n",
      "  File \"c:\\Users\\galla\\anaconda3\\envs\\edge-effects\\lib\\site-packages\\cachelib\\simple.py\", line 36, in <listcomp>\n",
      "    toremove = [k for k, (expires, _) in self._cache.items() if expires < now]\n",
      "RuntimeError: dictionary keys changed during iteration\n"
     ]
    }
   ],
   "source": [
    "roi = 'steamboat'\n",
    "Map = visualize_tif(roi, tif_layers=True, usfs=True)\n",
    "Map"
   ]
  },
  {
   "cell_type": "code",
   "execution_count": null,
   "id": "599c8e8f",
   "metadata": {},
   "outputs": [
    {
     "data": {
      "text/html": [
       "\n",
       "            <style>\n",
       "                .geemap-dark {\n",
       "                    --jp-widgets-color: white;\n",
       "                    --jp-widgets-label-color: white;\n",
       "                    --jp-ui-font-color1: white;\n",
       "                    --jp-layout-color2: #454545;\n",
       "                    background-color: #383838;\n",
       "                }\n",
       "\n",
       "                .geemap-dark .jupyter-button {\n",
       "                    --jp-layout-color3: #383838;\n",
       "                }\n",
       "\n",
       "                .geemap-colab {\n",
       "                    background-color: var(--colab-primary-surface-color, white);\n",
       "                }\n",
       "\n",
       "                .geemap-colab .jupyter-button {\n",
       "                    --jp-layout-color3: var(--colab-primary-surface-color, white);\n",
       "                }\n",
       "            </style>\n",
       "            "
      ],
      "text/plain": [
       "<IPython.core.display.HTML object>"
      ]
     },
     "metadata": {},
     "output_type": "display_data"
    },
    {
     "name": "stdout",
     "output_type": "stream",
     "text": [
      "Retrieving pixel blocks from s2 tif of size 1634 x 1274, with a total of 2081716 pixels\n",
      "Processing 599th row / 1634\n",
      "Processing 799th row / 1634\n",
      "Processing 999th row / 1634\n",
      "Retrieving USFS land use classes\n",
      "Block size: 80×80\n",
      "Feature map after pooling: 128 × 10 × 10\n",
      "Flattened features: 12800\n",
      "Initializing output tif files\n",
      "Number of blocks to predict: 274516\n"
     ]
    },
    {
     "data": {
      "application/vnd.jupyter.widget-view+json": {
       "model_id": "7a57809ab379473496ffe46fe5763534",
       "version_major": 2,
       "version_minor": 0
      },
      "text/plain": [
       "Processing pixel blocks:   0%|          | 0/274516 [00:00<?, ?block/s]"
      ]
     },
     "metadata": {},
     "output_type": "display_data"
    },
    {
     "name": "stdout",
     "output_type": "stream",
     "text": [
      "(83, 2)% of pixels predicted incorrectly.\n",
      "Writing to .tif files\n",
      "Output tifs created and saved to memory, creating GeeMap visualization\n"
     ]
    },
    {
     "data": {
      "application/vnd.jupyter.widget-view+json": {
       "model_id": "49fc847989894eb3bbeb3f8f045150d6",
       "version_major": 2,
       "version_minor": 0
      },
      "text/plain": [
       "Map(center=[-107.911, 38.476], controls=(WidgetControl(options=['position', 'transparent_bg'], widget=SearchDa…"
      ]
     },
     "metadata": {},
     "output_type": "display_data"
    }
   ],
   "source": [
    "roi = 'laporte'\n",
    "Map = visualize_tif(roi, tif_layers=True, usfs=True)\n",
    "Map"
   ]
  },
  {
   "cell_type": "markdown",
   "id": "3e6a98ee",
   "metadata": {},
   "source": [
    "### **Out of Sample Runs w/o USFS Data**"
   ]
  },
  {
   "cell_type": "code",
   "execution_count": null,
   "id": "1f0ad3b1",
   "metadata": {},
   "outputs": [],
   "source": [
    "roi = 'amazon'\n",
    "Map = visualize_tif(roi, tif_layers=True, usfs=False)\n",
    "Map"
   ]
  },
  {
   "cell_type": "code",
   "execution_count": null,
   "id": "ca928114",
   "metadata": {},
   "outputs": [],
   "source": [
    "roi = 'sahara'\n",
    "Map = visualize_tif(roi, tif_layers=True, usfs=False)\n",
    "Map"
   ]
  },
  {
   "cell_type": "code",
   "execution_count": null,
   "id": "fbeb6106",
   "metadata": {},
   "outputs": [],
   "source": [
    "roi = 'canada'\n",
    "Map = visualize_tif(roi, tif_layers=True, usfs=False)\n",
    "Map"
   ]
  },
  {
   "cell_type": "code",
   "execution_count": null,
   "id": "69001363",
   "metadata": {},
   "outputs": [],
   "source": [
    "roi = 'france'\n",
    "Map = visualize_tif(roi, tif_layers=True, usfs=False)\n",
    "Map"
   ]
  }
 ],
 "metadata": {
  "kernelspec": {
   "display_name": "edge-effects",
   "language": "python",
   "name": "python3"
  },
  "language_info": {
   "codemirror_mode": {
    "name": "ipython",
    "version": 3
   },
   "file_extension": ".py",
   "mimetype": "text/x-python",
   "name": "python",
   "nbconvert_exporter": "python",
   "pygments_lexer": "ipython3",
   "version": "3.10.16"
  }
 },
 "nbformat": 4,
 "nbformat_minor": 5
}

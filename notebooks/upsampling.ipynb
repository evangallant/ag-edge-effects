{
 "cells": [
  {
   "cell_type": "code",
   "execution_count": 1,
   "metadata": {},
   "outputs": [
    {
     "data": {
      "application/vnd.jupyter.widget-view+json": {
       "model_id": "6d1d08292c994579837410155274ccb7",
       "version_major": 2,
       "version_minor": 0
      },
      "text/plain": [
       "Map(center=[39.04043, -95.19215], controls=(WidgetControl(options=['position', 'transparent_bg'], widget=Searc…"
      ]
     },
     "metadata": {},
     "output_type": "display_data"
    }
   ],
   "source": [
    "%load_ext autoreload\n",
    "%autoreload 2\n",
    "\n",
    "import sys\n",
    "import os\n",
    "import ee\n",
    "import geemap\n",
    "sys.path.append(os.path.abspath('..'))\n",
    "from src.data.data_loaders import return_sentinel_data, return_usfs_data, return_neonrgb_data\n",
    "from src.data.categorical_upsampling import visualize_categorical_upsampling\n",
    "\n",
    "lon, lat, zoom = 39.04043, -95.19215, 15\n",
    "roi = ee.Geometry.BBox(-95.245479, 39.018359, -95.144882, 39.081559)\n",
    "s2start, s2end, s2bands, cloud_percentage = '2021-09-01', '2022-09-30', ['B4', 'B3', 'B2'], 90\n",
    "lcstart, lcend = '2021', '2022'\n",
    "neonstart, neonend = '2020-06-01', '2021-07-01'\n",
    "\n",
    "Map = geemap.Map()\n",
    "Map.setCenter(lat, lon, zoom)\n",
    "Map = return_sentinel_data(Map, s2start, s2end, cloud_percentage, s2bands, roi)\n",
    "Map = return_neonrgb_data(Map, neonstart, neonend, roi)\n",
    "Map = visualize_categorical_upsampling(Map)\n",
    "\n",
    "Map\n"
   ]
  }
 ],
 "metadata": {
  "kernelspec": {
   "display_name": "edge-effects",
   "language": "python",
   "name": "python3"
  },
  "language_info": {
   "codemirror_mode": {
    "name": "ipython",
    "version": 3
   },
   "file_extension": ".py",
   "mimetype": "text/x-python",
   "name": "python",
   "nbconvert_exporter": "python",
   "pygments_lexer": "ipython3",
   "version": "3.10.16"
  }
 },
 "nbformat": 4,
 "nbformat_minor": 2
}
